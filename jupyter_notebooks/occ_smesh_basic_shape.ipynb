{
 "cells": [
  {
   "cell_type": "code",
   "execution_count": 1,
   "metadata": {},
   "outputs": [],
   "source": [
    "from OCC.Display.WebGl.jupyter_renderer import JupyterRenderer\n",
    "from OCC.Core.BRepPrimAPI import BRepPrimAPI_MakeTorus\n",
    "from OCC.Core.STEPControl import STEPControl_Reader\n",
    "from OCC.Core.IFSelect import IFSelect_RetDone, IFSelect_ItemsByEntity\n",
    "from OCC.Core.SMESH import SMESH_Gen, SMESH_MeshVSLink\n",
    "from OCC.Core.StdMeshers import (StdMeshers_Arithmetic1D, StdMeshers_TrianglePreference,\n",
    "                            StdMeshers_Regular_1D, StdMeshers_Quadrangle_2D,\n",
    "                            StdMeshers_MEFISTO_2D)"
   ]
  },
  {
   "cell_type": "code",
   "execution_count": 2,
   "metadata": {},
   "outputs": [],
   "source": [
    "shp = BRepPrimAPI_MakeTorus(40., 20.).Shape()"
   ]
  },
  {
   "cell_type": "code",
   "execution_count": 3,
   "metadata": {},
   "outputs": [],
   "source": [
    "my_renderer = JupyterRenderer()"
   ]
  },
  {
   "cell_type": "code",
   "execution_count": 4,
   "metadata": {},
   "outputs": [],
   "source": [
    "my_renderer.DisplayShape(shp, render_edges=True)"
   ]
  },
  {
   "cell_type": "code",
   "execution_count": 5,
   "metadata": {
    "scrolled": false
   },
   "outputs": [
    {
     "data": {
      "application/vnd.jupyter.widget-view+json": {
       "model_id": "f0ad7a4f50fe469f9bb0a802971b5e55",
       "version_major": 2,
       "version_minor": 0
      },
      "text/plain": [
       "HBox(children=(Renderer(background='white', camera=CombinedCamera(far=1758.6961293683953, height=480.0, mode='…"
      ]
     },
     "metadata": {},
     "output_type": "display_data"
    },
    {
     "data": {
      "text/plain": []
     },
     "execution_count": 5,
     "metadata": {},
     "output_type": "execute_result"
    }
   ],
   "source": [
    "my_renderer"
   ]
  },
  {
   "cell_type": "code",
   "execution_count": 6,
   "metadata": {},
   "outputs": [],
   "source": [
    "aMeshGen = SMESH_Gen()\n",
    "aMesh = aMeshGen.CreateMesh(0, True)"
   ]
  },
  {
   "cell_type": "code",
   "execution_count": 7,
   "metadata": {},
   "outputs": [],
   "source": [
    "an1DHypothesis = StdMeshers_Arithmetic1D(0,0,aMeshGen)\n",
    "\n",
    "an1DHypothesis.SetLength(2.,False)\n",
    "an1DHypothesis.SetLength(10.,True)\n",
    "an1DAlgo = StdMeshers_Regular_1D(1,0,aMeshGen)\n",
    "\n",
    "a2dHypothseis = StdMeshers_TrianglePreference(2,0,aMeshGen) #define the boundary\n",
    "a2dAlgo = StdMeshers_MEFISTO_2D(3,0,aMeshGen)"
   ]
  },
  {
   "cell_type": "code",
   "execution_count": 8,
   "metadata": {},
   "outputs": [
    {
     "data": {
      "text/plain": [
       "True"
      ]
     },
     "execution_count": 8,
     "metadata": {},
     "output_type": "execute_result"
    }
   ],
   "source": [
    "#Calculate mesh\n",
    "aMesh.ShapeToMesh(shp)\n",
    "\n",
    "#Assign hyptothesis to mesh\n",
    "aMesh.AddHypothesis(shp,0)\n",
    "aMesh.AddHypothesis(shp,1)\n",
    "aMesh.AddHypothesis(shp,2)\n",
    "aMesh.AddHypothesis(shp,3)\n",
    "\n",
    "#Compute the data\n",
    "aMeshGen.Compute(aMesh,aMesh.GetShapeToMesh())"
   ]
  },
  {
   "cell_type": "code",
   "execution_count": 9,
   "metadata": {},
   "outputs": [],
   "source": [
    "my_renderer = JupyterRenderer()"
   ]
  },
  {
   "cell_type": "code",
   "execution_count": 10,
   "metadata": {
    "scrolled": false
   },
   "outputs": [
    {
     "data": {
      "application/vnd.jupyter.widget-view+json": {
       "model_id": "380b0c8106aa43348968590b8e4574cd",
       "version_major": 2,
       "version_minor": 0
      },
      "text/plain": [
       "Renderer(background='white', camera=PerspectiveCamera(children=(DirectionalLight(intensity=0.9, position=(50.0…"
      ]
     },
     "metadata": {},
     "output_type": "display_data"
    }
   ],
   "source": [
    "my_renderer.DisplayMesh(aMesh)"
   ]
  },
  {
   "cell_type": "code",
   "execution_count": null,
   "metadata": {},
   "outputs": [],
   "source": []
  }
 ],
 "metadata": {
  "kernelspec": {
   "display_name": "Python 3",
   "language": "python",
   "name": "python3"
  },
  "language_info": {
   "codemirror_mode": {
    "name": "ipython",
    "version": 3
   },
   "file_extension": ".py",
   "mimetype": "text/x-python",
   "name": "python",
   "nbconvert_exporter": "python",
   "pygments_lexer": "ipython3",
   "version": "3.6.3"
  }
 },
 "nbformat": 4,
 "nbformat_minor": 2
}
