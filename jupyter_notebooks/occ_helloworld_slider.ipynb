{
 "cells": [
  {
   "cell_type": "code",
   "execution_count": 1,
   "metadata": {},
   "outputs": [],
   "source": [
    "from OCC.Display.WebGl.jupyter_renderer import JupyterRenderer\n",
    "from OCC.Core.BRepPrimAPI import BRepPrimAPI_MakeBox"
   ]
  },
  {
   "cell_type": "code",
   "execution_count": 2,
   "metadata": {},
   "outputs": [],
   "source": [
    "my_renderer = JupyterRenderer()"
   ]
  },
  {
   "cell_type": "code",
   "execution_count": 3,
   "metadata": {},
   "outputs": [],
   "source": [
    "v1=10.\n",
    "v2=20.\n",
    "v3=30.\n",
    "def make_box(v1, v2, v3):\n",
    "    box_shape = BRepPrimAPI_MakeBox(v1, v2, v3).Shape()\n",
    "    return box_shape\n",
    "box_shape = make_box(10., 20., 30.)"
   ]
  },
  {
   "cell_type": "code",
   "execution_count": 4,
   "metadata": {},
   "outputs": [
    {
     "data": {
      "application/vnd.jupyter.widget-view+json": {
       "model_id": "ddd7746d03ed49e3b33e2fe5cc0f02b3",
       "version_major": 2,
       "version_minor": 0
      },
      "text/plain": [
       "HBox(children=(Renderer(background='white', camera=CombinedCamera(far=374.1660593909074, height=480.0, mode='o…"
      ]
     },
     "metadata": {},
     "output_type": "display_data"
    },
    {
     "data": {
      "text/plain": []
     },
     "execution_count": 4,
     "metadata": {},
     "output_type": "execute_result"
    }
   ],
   "source": [
    "my_renderer.DisplayShape(box_shape, render_edges=True)\n",
    "my_renderer"
   ]
  },
  {
   "cell_type": "code",
   "execution_count": 5,
   "metadata": {},
   "outputs": [],
   "source": [
    "from ipywidgets import FloatSlider, HBox, VBox\n",
    "v1_slider, v2_slider = (FloatSlider(description='v1', min=10., max=40., step=0.01, value=v1,\n",
    "                                            continuous_update=False, orientation='vertical'),\n",
    "                        FloatSlider(description='v2', min=10., max=40., step=0.01, value=v2,\n",
    "                                            continuous_update=False, orientation='vertical'))\n",
    "def update(change):\n",
    "    box_shp = make_box(10., v1_slider.value, v2_slider.value)\n",
    "    my_renderer.DisplayShape(box_shp)\n",
    "    \n",
    "v1_slider.observe(update, names=['value'])\n",
    "v2_slider.observe(update, names=['value'])"
   ]
  },
  {
   "cell_type": "code",
   "execution_count": 6,
   "metadata": {},
   "outputs": [
    {
     "data": {
      "application/vnd.jupyter.widget-view+json": {
       "model_id": "ba0e26d8d4c341a387ee6d108c4488b9",
       "version_major": 2,
       "version_minor": 0
      },
      "text/plain": [
       "HBox(children=(Renderer(background='white', camera=CombinedCamera(far=374.1660593909074, height=480.0, mode='o…"
      ]
     },
     "metadata": {},
     "output_type": "display_data"
    }
   ],
   "source": [
    "HBox([my_renderer._renderer, v1_slider, v2_slider])"
   ]
  }
 ],
 "metadata": {
  "kernelspec": {
   "display_name": "Python 3",
   "language": "python",
   "name": "python3"
  },
  "language_info": {
   "codemirror_mode": {
    "name": "ipython",
    "version": 3
   },
   "file_extension": ".py",
   "mimetype": "text/x-python",
   "name": "python",
   "nbconvert_exporter": "python",
   "pygments_lexer": "ipython3",
   "version": "3.6.3"
  }
 },
 "nbformat": 4,
 "nbformat_minor": 2
}
