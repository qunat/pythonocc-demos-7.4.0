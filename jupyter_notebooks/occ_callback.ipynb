{
 "cells": [
  {
   "cell_type": "code",
   "execution_count": 61,
   "metadata": {},
   "outputs": [],
   "source": [
    "import sys\n",
    "sys.path.append('..')\n",
    "\n",
    "from OCC.Core.BRepPrimAPI import BRepPrimAPI_MakeTorus, BRepPrimAPI_MakeBox, BRepPrimAPI_MakeSphere\n",
    "from OCC.Core.gp import gp_Vec\n",
    "from OCC.Display.WebGl.jupyter_renderer import JupyterRenderer, NORMAL\n",
    "from OCC.Core.GProp import GProp_GProps\n",
    "from OCC.Core.BRepGProp import brepgprop_VolumeProperties\n",
    "\n",
    "from OCC.Extend.ShapeFactory import translate_shp"
   ]
  },
  {
   "cell_type": "code",
   "execution_count": 62,
   "metadata": {},
   "outputs": [],
   "source": [
    "# create 3 toruses\n",
    "# be careful to set copy to True or all the shapes will share the same mesh\n",
    "torus_shp = BRepPrimAPI_MakeTorus(20, 5).Shape()\n",
    "box_shp = translate_shp(BRepPrimAPI_MakeBox(10, 20, 3).Shape(), gp_Vec(60, 0, 0))\n",
    "sphere_shp = translate_shp(BRepPrimAPI_MakeSphere(20.).Shape(), gp_Vec(-60, 0, 0))"
   ]
  },
  {
   "cell_type": "code",
   "execution_count": 63,
   "metadata": {},
   "outputs": [],
   "source": [
    "# use the NORMAL.CLIENT_SIDE in order to clearly see faces\n",
    "# in case the NORMAL.SERVER_SIDE option is used, vertex normals lead to\n",
    "# a smooth rendering\n",
    "my_renderer = JupyterRenderer()"
   ]
  },
  {
   "cell_type": "code",
   "execution_count": 64,
   "metadata": {},
   "outputs": [],
   "source": [
    "#create and register a callback\n",
    "# this callback will compute and display shape volume each time a\n",
    "# shape is selectd\n",
    "def compute_volume(shp):\n",
    "    print('bizouou!!')\n",
    "    props = GProp_GProps()\n",
    "    #brepgprop_VolumeProperties(shp, props)\n",
    "    # Get inertia properties\n",
    "    #mass = props.Mass()\n",
    "    #cog = props.CentreOfMass()\n",
    "    #matrix_of_inertia = props.MatrixOfInertia()\n",
    "    # Display inertia properties\n",
    "    #cog_x, cog_y, cog_z = cog.Coord()\n",
    "    #print(\"Center of mass: x = %f;y = %f;z = %f;\" % (cog_x, cog_y, cog_z))\n",
    "    #html_value = \"Shape volumes = %s<br>\" % mass\n",
    "    #html_value += \"Center of mass: x = %f;y = %f;z = %f\" % (cog_x, cog_y, cog_z)\n",
    "    #my_renderer.html.value = html_value\n",
    "my_renderer.register_select_callback(compute_volume)"
   ]
  },
  {
   "cell_type": "code",
   "execution_count": 65,
   "metadata": {},
   "outputs": [],
   "source": [
    "my_renderer.DisplayShape(torus_shp, shape_color=\"blue\")\n",
    "my_renderer.DisplayShape(box_shp, shape_color=\"red\")\n",
    "my_renderer.DisplayShape(sphere_shp, shape_color=\"green\")"
   ]
  },
  {
   "cell_type": "code",
   "execution_count": 66,
   "metadata": {},
   "outputs": [
    {
     "data": {
      "application/vnd.jupyter.widget-view+json": {
       "model_id": "e951685cd9bf43538ac1870913ab36fe",
       "version_major": 2,
       "version_minor": 0
      },
      "text/plain": [
       "HBox(children=(Renderer(background='white', camera=CombinedCamera(far=1641.2128284100652, height=480.0, mode='…"
      ]
     },
     "metadata": {},
     "output_type": "display_data"
    }
   ],
   "source": [
    "my_renderer.Display()"
   ]
  }
 ],
 "metadata": {
  "kernelspec": {
   "display_name": "Python 3",
   "language": "python",
   "name": "python3"
  },
  "language_info": {
   "codemirror_mode": {
    "name": "ipython",
    "version": 3
   },
   "file_extension": ".py",
   "mimetype": "text/x-python",
   "name": "python",
   "nbconvert_exporter": "python",
   "pygments_lexer": "ipython3",
   "version": "3.6.3"
  }
 },
 "nbformat": 4,
 "nbformat_minor": 2
}
