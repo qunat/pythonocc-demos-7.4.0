{
 "cells": [
  {
   "cell_type": "code",
   "execution_count": 1,
   "metadata": {
    "scrolled": true
   },
   "outputs": [],
   "source": [
    "import os\n",
    "import sys\n",
    "from OCC.Display.WebGl.jupyter_renderer import JupyterRenderer\n",
    "from OCC.Core.BRepPrimAPI import BRepPrimAPI_MakeBox"
   ]
  },
  {
   "cell_type": "code",
   "execution_count": 2,
   "metadata": {},
   "outputs": [],
   "source": [
    "from OCC.Display.SimpleGui import init_display\n",
    "from OCC.Core.BRepTools import breptools_Write\n",
    "\n",
    "from OCC.Core.gp import gp_Vec\n",
    "from OCC.Extend.ShapeFactory import translate_shp\n",
    "from OCC.Extend.DataExchange import read_step_file, read_stl_file"
   ]
  },
  {
   "cell_type": "code",
   "execution_count": 3,
   "metadata": {},
   "outputs": [],
   "source": [
    "ventilator_shp = read_step_file(os.path.join('..', 'assets', 'models', 'Ventilator.stp'))"
   ]
  },
  {
   "cell_type": "code",
   "execution_count": 4,
   "metadata": {},
   "outputs": [],
   "source": [
    "# dump the geometry to a brep file\n",
    "breptools_Write(ventilator_shp, \"ventilator.brep\")\n",
    "\n",
    "# create the gmesh file\n",
    "gmsh_file_content = \"\"\"SetFactory(\"OpenCASCADE\");\n",
    "\n",
    "Mesh.CharacteristicLengthMin = 1;\n",
    "Mesh.CharacteristicLengthMax = 5;\n",
    "\n",
    "a() = ShapeFromFile(\"ventilator.brep\");\n",
    "\"\"\"\n",
    "gmsh_file = open(\"ventilator.geo\", \"w\")\n",
    "gmsh_file.write(gmsh_file_content)\n",
    "gmsh_file.close()\n",
    "\n",
    "# call gmsh\n",
    "os.system(\"gmsh ventilator.geo -2 -o ventilator.stl -format stl\")\n",
    "# load the stl file\n",
    "meshed_ventilator_shp = read_stl_file('ventilator.stl')"
   ]
  },
  {
   "cell_type": "code",
   "execution_count": 5,
   "metadata": {},
   "outputs": [],
   "source": [
    "my_renderer = JupyterRenderer(size=(900, 900))"
   ]
  },
  {
   "cell_type": "code",
   "execution_count": 6,
   "metadata": {
    "scrolled": true
   },
   "outputs": [],
   "source": [
    "my_renderer.DisplayShape(translate_shp(ventilator_shp, gp_Vec(-100,0,0)), render_edges=True, shape_color=\"cyan\")\n",
    "my_renderer.DisplayShape(meshed_ventilator_shp, render_edges=True, shape_color=\"cyan\")"
   ]
  },
  {
   "cell_type": "code",
   "execution_count": 7,
   "metadata": {},
   "outputs": [
    {
     "data": {
      "application/vnd.jupyter.widget-view+json": {
       "model_id": "c068c0bd9ad74d3c8fc8d4b8e130a6f7",
       "version_major": 2,
       "version_minor": 0
      },
      "text/plain": [
       "HBox(children=(Renderer(background='white', camera=CombinedCamera(far=1992.8065848923293, height=900.0, mode='…"
      ]
     },
     "metadata": {},
     "output_type": "display_data"
    },
    {
     "data": {
      "text/plain": []
     },
     "execution_count": 7,
     "metadata": {},
     "output_type": "execute_result"
    }
   ],
   "source": [
    "my_renderer"
   ]
  },
  {
   "cell_type": "code",
   "execution_count": null,
   "metadata": {},
   "outputs": [],
   "source": []
  }
 ],
 "metadata": {
  "kernelspec": {
   "display_name": "Python 3",
   "language": "python",
   "name": "python3"
  },
  "language_info": {
   "codemirror_mode": {
    "name": "ipython",
    "version": 3
   },
   "file_extension": ".py",
   "mimetype": "text/x-python",
   "name": "python",
   "nbconvert_exporter": "python",
   "pygments_lexer": "ipython3",
   "version": "3.6.3"
  }
 },
 "nbformat": 4,
 "nbformat_minor": 2
}
