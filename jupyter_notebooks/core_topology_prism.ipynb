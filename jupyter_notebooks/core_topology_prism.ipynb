{
 "cells": [
  {
   "cell_type": "markdown",
   "metadata": {},
   "source": [
    "# PythonOCC - Example - Topology - Make Prism"
   ]
  },
  {
   "cell_type": "markdown",
   "metadata": {},
   "source": [
    "Example of the ***BRepPrimAPI_MakePrism*** function building linear swept topologies, called prisms.<br>\n",
    "In this example, the prism is defined by a bspline edge which is swept along a vector. \n",
    "The result is a face."
   ]
  },
  {
   "cell_type": "code",
   "execution_count": 1,
   "metadata": {},
   "outputs": [],
   "source": [
    "# imports from OCC.Core\n",
    "from OCC.Core.gp import gp_Pnt, gp_Vec\n",
    "from OCC.Core.GeomAPI import GeomAPI_PointsToBSpline\n",
    "from OCC.Core.TColgp import TColgp_Array1OfPnt\n",
    "from OCC.Core.BRepBuilderAPI import BRepBuilderAPI_MakeEdge\n",
    "from OCC.Core.BRepPrimAPI import BRepPrimAPI_MakePrism"
   ]
  },
  {
   "cell_type": "code",
   "execution_count": 2,
   "metadata": {},
   "outputs": [],
   "source": [
    "# imports from Display and Extend\n",
    "from OCC.Display.WebGl.jupyter_renderer import JupyterRenderer"
   ]
  },
  {
   "cell_type": "markdown",
   "metadata": {},
   "source": [
    "Creation of the Jupyter Renderer"
   ]
  },
  {
   "cell_type": "code",
   "execution_count": 3,
   "metadata": {},
   "outputs": [],
   "source": [
    "my_renderer = JupyterRenderer()"
   ]
  },
  {
   "cell_type": "markdown",
   "metadata": {},
   "source": [
    "Generation of the bspline profile using an array of 5 points. The spline is interpolated through these points."
   ]
  },
  {
   "cell_type": "code",
   "execution_count": 4,
   "metadata": {},
   "outputs": [],
   "source": [
    "# the bspline profile\n",
    "array = TColgp_Array1OfPnt(1, 5)\n",
    "array.SetValue(1, gp_Pnt(0, 0, 0))\n",
    "array.SetValue(2, gp_Pnt(1, 2, 0))\n",
    "array.SetValue(3, gp_Pnt(2, 3, 0))\n",
    "array.SetValue(4, gp_Pnt(4, 3, 0))\n",
    "array.SetValue(5, gp_Pnt(5, 5, 0))\n",
    "bspline = GeomAPI_PointsToBSpline(array).Curve()\n",
    "profile = BRepBuilderAPI_MakeEdge(bspline).Edge()"
   ]
  },
  {
   "cell_type": "markdown",
   "metadata": {},
   "source": [
    "Generation of the linear path."
   ]
  },
  {
   "cell_type": "code",
   "execution_count": 5,
   "metadata": {},
   "outputs": [],
   "source": [
    "# the linear path\n",
    "starting_point = gp_Pnt(0., 0., 0.)\n",
    "end_point = gp_Pnt(0., 0., 6.)\n",
    "vec = gp_Vec(starting_point, end_point)\n",
    "path = BRepBuilderAPI_MakeEdge(starting_point, end_point).Edge()"
   ]
  },
  {
   "cell_type": "markdown",
   "metadata": {},
   "source": [
    "Build the prism model resulting from the bspline extrusion allong the linear path"
   ]
  },
  {
   "cell_type": "code",
   "execution_count": 6,
   "metadata": {},
   "outputs": [],
   "source": [
    "# extrusion\n",
    "prism = BRepPrimAPI_MakePrism(profile, vec).Shape()"
   ]
  },
  {
   "cell_type": "code",
   "execution_count": 7,
   "metadata": {},
   "outputs": [],
   "source": [
    "my_renderer.DisplayShape(prism, render_edges=True)"
   ]
  },
  {
   "cell_type": "code",
   "execution_count": 8,
   "metadata": {},
   "outputs": [
    {
     "data": {
      "application/vnd.jupyter.widget-view+json": {
       "model_id": "6f62eab47e6648cc98d0f30b0074e4fb",
       "version_major": 2,
       "version_minor": 0
      },
      "text/plain": [
       "HBox(children=(Renderer(background='white', camera=CombinedCamera(far=95.27819606384769, height=480.0, mode='o…"
      ]
     },
     "metadata": {},
     "output_type": "display_data"
    }
   ],
   "source": [
    "my_renderer.Display()"
   ]
  }
 ],
 "metadata": {
  "kernelspec": {
   "display_name": "Python 3",
   "language": "python",
   "name": "python3"
  },
  "language_info": {
   "codemirror_mode": {
    "name": "ipython",
    "version": 3
   },
   "file_extension": ".py",
   "mimetype": "text/x-python",
   "name": "python",
   "nbconvert_exporter": "python",
   "pygments_lexer": "ipython3",
   "version": "3.6.3"
  }
 },
 "nbformat": 4,
 "nbformat_minor": 2
}
