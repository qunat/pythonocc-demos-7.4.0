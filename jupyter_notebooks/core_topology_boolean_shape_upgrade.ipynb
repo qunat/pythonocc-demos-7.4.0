{
 "cells": [
  {
   "cell_type": "markdown",
   "metadata": {},
   "source": [
    "# PythonOCC - Example - Topology - Upgrade - UnifySameDomain"
   ]
  },
  {
   "cell_type": "markdown",
   "metadata": {},
   "source": [
    "Example of the ***ShapeUpgrade_UnifySameDomain*** tool unifying all possible faces and edges of a shape which lies on the same geometry.<br><br>\n",
    "Faces/edges are considered as 'same-domain' if the neighboring faces/edges lie on coincident surfaces/curves. Such faces/edges can be unified into one face/edge. This tool takes an input shape and returns a new one. All modifications of the initial shape are recorded during the operation.<br>"
   ]
  },
  {
   "cell_type": "code",
   "execution_count": 1,
   "metadata": {},
   "outputs": [],
   "source": [
    "from OCC.Core.BRepAlgoAPI import BRepAlgoAPI_Fuse\n",
    "from OCC.Core.BRepBuilderAPI import BRepBuilderAPI_Transform\n",
    "from OCC.Core.BRepPrimAPI import BRepPrimAPI_MakeBox\n",
    "from OCC.Core.gp import gp_Vec, gp_Trsf\n",
    "from OCC.Core.ShapeUpgrade import ShapeUpgrade_UnifySameDomain"
   ]
  },
  {
   "cell_type": "code",
   "execution_count": 2,
   "metadata": {},
   "outputs": [],
   "source": [
    "from OCC.Display.WebGl.jupyter_renderer import JupyterRenderer"
   ]
  },
  {
   "cell_type": "markdown",
   "metadata": {},
   "source": [
    "Fuse two boxes."
   ]
  },
  {
   "cell_type": "code",
   "execution_count": 3,
   "metadata": {},
   "outputs": [],
   "source": [
    "box1 = BRepPrimAPI_MakeBox(10., 20., 30.).Shape()\n",
    "box2 = BRepPrimAPI_MakeBox(20., 1., 30.).Shape()\n",
    "fused_shp = BRepAlgoAPI_Fuse(box1, box2).Shape()"
   ]
  },
  {
   "cell_type": "markdown",
   "metadata": {},
   "source": [
    "Display the union of two boxes. Edges appears from the input of the initial boxes' boundaries."
   ]
  },
  {
   "cell_type": "code",
   "execution_count": 4,
   "metadata": {},
   "outputs": [
    {
     "data": {
      "application/vnd.jupyter.widget-view+json": {
       "model_id": "f5497ae4844a499e957abb19e4ce5cf1",
       "version_major": 2,
       "version_minor": 0
      },
      "text/plain": [
       "HBox(children=(Renderer(background='white', camera=CombinedCamera(far=412.3109021116468, height=480.0, mode='o…"
      ]
     },
     "metadata": {},
     "output_type": "display_data"
    }
   ],
   "source": [
    "rnd = JupyterRenderer()\n",
    "rnd.DisplayShape(fused_shp, render_edges=True)\n",
    "rnd.Display()"
   ]
  },
  {
   "cell_type": "markdown",
   "metadata": {},
   "source": [
    "Apply the upgrading tool to unify the faces and edges."
   ]
  },
  {
   "cell_type": "code",
   "execution_count": 5,
   "metadata": {},
   "outputs": [],
   "source": [
    "shapeUpgrade = ShapeUpgrade_UnifySameDomain(fused_shp, False, True, False)\n",
    "shapeUpgrade.Build()\n",
    "fused_shp_upgrade = shapeUpgrade.Shape()"
   ]
  },
  {
   "cell_type": "code",
   "execution_count": 6,
   "metadata": {},
   "outputs": [
    {
     "data": {
      "application/vnd.jupyter.widget-view+json": {
       "model_id": "87515e6cc0694babbcca2114190d5928",
       "version_major": 2,
       "version_minor": 0
      },
      "text/plain": [
       "HBox(children=(Renderer(background='white', camera=CombinedCamera(far=412.3109021116468, height=480.0, mode='o…"
      ]
     },
     "metadata": {},
     "output_type": "display_data"
    }
   ],
   "source": [
    "rnd_upgrade = JupyterRenderer()\n",
    "rnd_upgrade.DisplayShape(fused_shp_upgrade, render_edges=True)\n",
    "rnd_upgrade.Display()"
   ]
  },
  {
   "cell_type": "code",
   "execution_count": null,
   "metadata": {},
   "outputs": [],
   "source": []
  },
  {
   "cell_type": "code",
   "execution_count": null,
   "metadata": {},
   "outputs": [],
   "source": []
  }
 ],
 "metadata": {
  "kernelspec": {
   "display_name": "Python 3",
   "language": "python",
   "name": "python3"
  },
  "language_info": {
   "codemirror_mode": {
    "name": "ipython",
    "version": 3
   },
   "file_extension": ".py",
   "mimetype": "text/x-python",
   "name": "python",
   "nbconvert_exporter": "python",
   "pygments_lexer": "ipython3",
   "version": "3.6.3"
  }
 },
 "nbformat": 4,
 "nbformat_minor": 2
}
