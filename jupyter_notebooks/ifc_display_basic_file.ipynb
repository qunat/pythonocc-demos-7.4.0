{
 "cells": [
  {
   "cell_type": "code",
   "execution_count": 1,
   "metadata": {},
   "outputs": [
    {
     "ename": "ModuleNotFoundError",
     "evalue": "No module named 'ifcopenshell'",
     "output_type": "error",
     "traceback": [
      "\u001b[0;31m---------------------------------------------------------------------------\u001b[0m",
      "\u001b[0;31mModuleNotFoundError\u001b[0m                       Traceback (most recent call last)",
      "\u001b[0;32m<ipython-input-1-ea5f5b1c181a>\u001b[0m in \u001b[0;36m<module>\u001b[0;34m()\u001b[0m\n\u001b[1;32m      2\u001b[0m \u001b[0;34m\u001b[0m\u001b[0m\n\u001b[1;32m      3\u001b[0m \u001b[0;32mfrom\u001b[0m \u001b[0mOCC\u001b[0m\u001b[0;34m.\u001b[0m\u001b[0mDisplay\u001b[0m\u001b[0;34m.\u001b[0m\u001b[0mWebGl\u001b[0m\u001b[0;34m.\u001b[0m\u001b[0mjupyter_renderer\u001b[0m \u001b[0;32mimport\u001b[0m \u001b[0mJupyterRenderer\u001b[0m\u001b[0;34m,\u001b[0m \u001b[0mformat_color\u001b[0m\u001b[0;34m\u001b[0m\u001b[0m\n\u001b[0;32m----> 4\u001b[0;31m \u001b[0;32mimport\u001b[0m \u001b[0mifcopenshell\u001b[0m\u001b[0;34m,\u001b[0m \u001b[0mifcopenshell\u001b[0m\u001b[0;34m.\u001b[0m\u001b[0mgeom\u001b[0m\u001b[0;34m\u001b[0m\u001b[0m\n\u001b[0m",
      "\u001b[0;31mModuleNotFoundError\u001b[0m: No module named 'ifcopenshell'"
     ]
    }
   ],
   "source": [
    "import os\n",
    "\n",
    "from OCC.Display.WebGl.jupyter_renderer import JupyterRenderer, format_color\n",
    "import ifcopenshell, ifcopenshell.geom"
   ]
  },
  {
   "cell_type": "code",
   "execution_count": null,
   "metadata": {},
   "outputs": [],
   "source": [
    "ifc_filename = os.path.join('assets', 'ifc_models', 'AC-11-Smiley-West-04-07-2007.ifc')\n",
    "assert os.path.isfile(ifc_filename)"
   ]
  },
  {
   "cell_type": "code",
   "execution_count": null,
   "metadata": {},
   "outputs": [],
   "source": [
    "my_renderer = JupyterRenderer(size=(700, 700))"
   ]
  },
  {
   "cell_type": "code",
   "execution_count": null,
   "metadata": {},
   "outputs": [],
   "source": [
    "settings = ifcopenshell.geom.settings()\n",
    "settings.set(settings.USE_PYTHON_OPENCASCADE, True)  # tells ifcopenshell to use pythonocc"
   ]
  },
  {
   "cell_type": "code",
   "execution_count": null,
   "metadata": {},
   "outputs": [],
   "source": [
    "ifc_file = ifcopenshell.open(ifc_filename)"
   ]
  },
  {
   "cell_type": "code",
   "execution_count": null,
   "metadata": {},
   "outputs": [],
   "source": [
    "products = ifc_file.by_type(\"IfcProduct\") # traverse all IfcProducts"
   ]
  },
  {
   "cell_type": "code",
   "execution_count": null,
   "metadata": {},
   "outputs": [],
   "source": [
    "for product in products:\n",
    "    if product.Representation is not None:  # some IfcProducts don't have any 3d representation\n",
    "        pdct_shape = ifcopenshell.geom.create_shape(settings, inst=product)\n",
    "        r,g,b,alpha = pdct_shape.styles[0] # the shape color\n",
    "        color = format_color(int(abs(r)*255), int(abs(g)*255), int(abs(b)*255))\n",
    "        # below, the pdct_shape.geometry is a TopoDS_Shape, i.e. can be rendered using\n",
    "        # any renderer (threejs, x3dom, jupyter, qt5 based etc.)\n",
    "        my_renderer.DisplayShape(pdct_shape.geometry, shape_color = color, transparency=True, opacity=alpha)"
   ]
  },
  {
   "cell_type": "code",
   "execution_count": null,
   "metadata": {},
   "outputs": [],
   "source": [
    "my_renderer\n"
   ]
  },
  {
   "cell_type": "code",
   "execution_count": null,
   "metadata": {},
   "outputs": [],
   "source": []
  }
 ],
 "metadata": {
  "kernelspec": {
   "display_name": "Python 3",
   "language": "python",
   "name": "python3"
  },
  "language_info": {
   "codemirror_mode": {
    "name": "ipython",
    "version": 3
   },
   "file_extension": ".py",
   "mimetype": "text/x-python",
   "name": "python",
   "nbconvert_exporter": "python",
   "pygments_lexer": "ipython3",
   "version": "3.6.3"
  }
 },
 "nbformat": 4,
 "nbformat_minor": 2
}
